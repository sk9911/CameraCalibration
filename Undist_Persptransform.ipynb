{
 "cells": [
  {
   "cell_type": "code",
   "execution_count": 1,
   "metadata": {},
   "outputs": [
    {
     "name": "stderr",
     "output_type": "stream",
     "text": [
      "fatal: destination path 'CarND-Camera-Calibration' already exists and is not an empty directory.\n"
     ]
    }
   ],
   "source": [
    "!git clone https://github.com/udacity/CarND-Camera-Calibration"
   ]
  },
  {
   "cell_type": "code",
   "execution_count": 2,
   "metadata": {},
   "outputs": [],
   "source": [
    "import cv2\n",
    "import matplotlib.pyplot as plt\n",
    "import matplotlib.image as mpimg\n",
    "import numpy as np\n",
    "import glob\n",
    "\n",
    "%matplotlib qt"
   ]
  },
  {
   "cell_type": "code",
   "execution_count": 3,
   "metadata": {
    "id": "5rtV7BH22lDS"
   },
   "outputs": [],
   "source": [
    "images = glob.glob('D:\\AT\\Camera_calib\\CarND-Camera-Calibration\\calibration_wide\\GOPR*.jpg')"
   ]
  },
  {
   "cell_type": "code",
   "execution_count": 4,
   "metadata": {
    "id": "Lkx46dyPB7gz"
   },
   "outputs": [],
   "source": [
    "nx = 8\n",
    "ny = 6"
   ]
  },
  {
   "cell_type": "code",
   "execution_count": 5,
   "metadata": {
    "id": "bZnKDniB02bP"
   },
   "outputs": [],
   "source": [
    "objpoints = []\n",
    "imgpoints = []\n",
    "\n",
    "objp = np.zeros([6*8, 3], np.float32)\n",
    "objp[:,:2] = np.mgrid[0:8, 0:6].T.reshape(-1,2)"
   ]
  },
  {
   "cell_type": "code",
   "execution_count": 6,
   "metadata": {},
   "outputs": [],
   "source": [
    "not_fnd = 0\n",
    "\n",
    "for fname in images:\n",
    "    img = mpimg.imread(fname)\n",
    "    gray = cv2.cvtColor(img, cv2.COLOR_RGB2GRAY)\n",
    "    ret, corners = cv2.findChessboardCorners(gray, (nx, ny), None)\n",
    "    if ret == True:\n",
    "        imgpoints.append(corners)\n",
    "        objpoints.append(objp)\n",
    "    else:\n",
    "        not_fnd = not_fnd+1"
   ]
  },
  {
   "cell_type": "code",
   "execution_count": 7,
   "metadata": {},
   "outputs": [
    {
     "data": {
      "text/plain": [
       "1"
      ]
     },
     "execution_count": 7,
     "metadata": {},
     "output_type": "execute_result"
    }
   ],
   "source": [
    "not_fnd"
   ]
  },
  {
   "cell_type": "code",
   "execution_count": 8,
   "metadata": {},
   "outputs": [],
   "source": [
    "def cal_undistort(img, objpoints, imgpoints):\n",
    "    # Use cv2.calibrateCamera() and cv2.undistort()\n",
    "    gray = cv2.cvtColor(img, cv2.COLOR_RGB2GRAY)\n",
    "    ret, mtx, dist, rvecs, tvecs = cv2.calibrateCamera(objpoints, imgpoints, gray.shape[::-1], None, None)\n",
    "    dst = cv2.undistort(img, mtx, dist, None, mtx)\n",
    "    return dst\n",
    "\n",
    "def persp_trans(img):\n",
    "    img_coord = (img.shape[1], img.shape[0])\n",
    "    gray = cv2.cvtColor(img, cv2.COLOR_RGB2GRAY)\n",
    "    ret, corners = cv2.findChessboardCorners(gray, (nx, ny), None)\n",
    "    \n",
    "    src = np.float32([\n",
    "        [corners[0][0][0], corners[0][0][1]],\n",
    "        [corners[40][0][0], corners[40][0][1]],\n",
    "        [corners[-1][0][0], corners[-1][0][1]],\n",
    "        [corners[7][0][0], corners[7][0][1]]\n",
    "    ])\n",
    "    \n",
    "    width = np.abs(corners[7][0][0] - corners[0][0][0]) + 10\n",
    "    height = np.abs(corners[40][0][1] - corners[0][0][1]) + 10\n",
    "    \n",
    "    dst = np.float32([\n",
    "        [200, corners[0][0][1]],\n",
    "        [200, corners[0][0][1] + height],\n",
    "        [200 + width, corners[0][0][1] + height],\n",
    "        [200 + width, corners[0][0][1]]\n",
    "    ])\n",
    "    \n",
    "    M = cv2.getPerspectiveTransform(src, dst)\n",
    "    \n",
    "    warped = cv2.warpPerspective(img, M, img_coord, flags=cv2.INTER_LINEAR)\n",
    "    \n",
    "    return warped"
   ]
  },
  {
   "cell_type": "code",
   "execution_count": 9,
   "metadata": {},
   "outputs": [],
   "source": [
    "def cal_undistort_persp(img, objpoints, imgpoints):\n",
    "    out = cal_undistort(img, objpoints, imgpoints)\n",
    "    final = persp_trans(out)\n",
    "    \n",
    "    return final"
   ]
  },
  {
   "cell_type": "code",
   "execution_count": 10,
   "metadata": {},
   "outputs": [],
   "source": [
    "idx = 0\n",
    "\n",
    "img_p = images[idx]\n",
    "img = mpimg.imread(img_p)\n",
    "\n",
    "fin = cal_undistort_persp(img, objpoints, imgpoints)\n",
    "\n",
    "fig1, (ax1, ax2) = plt.subplots(1, 2, figsize=(20,10))\n",
    "ax1.set_title('Before')\n",
    "ax1.imshow(img)\n",
    "\n",
    "ax2.set_title('Tranformed')\n",
    "ax2.imshow(fin)\n",
    "\n",
    "plt.subplots_adjust(left=0., right=1, top=0.9, bottom=0.)"
   ]
  },
  {
   "cell_type": "code",
   "execution_count": null,
   "metadata": {},
   "outputs": [],
   "source": []
  }
 ],
 "metadata": {
  "kernelspec": {
   "display_name": "Python 3",
   "language": "python",
   "name": "python3"
  },
  "language_info": {
   "codemirror_mode": {
    "name": "ipython",
    "version": 3
   },
   "file_extension": ".py",
   "mimetype": "text/x-python",
   "name": "python",
   "nbconvert_exporter": "python",
   "pygments_lexer": "ipython3",
   "version": "3.8.5"
  }
 },
 "nbformat": 4,
 "nbformat_minor": 4
}
